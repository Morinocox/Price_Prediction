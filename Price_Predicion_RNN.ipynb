{
  "nbformat": 4,
  "nbformat_minor": 0,
  "metadata": {
    "colab": {
      "name": "Price_Predicion_RNN.ipynb",
      "provenance": [],
      "authorship_tag": "ABX9TyNt7Yis7cEIhEoRzc2EHrP+",
      "include_colab_link": true
    },
    "kernelspec": {
      "name": "python3",
      "display_name": "Python 3"
    },
    "language_info": {
      "name": "python"
    }
  },
  "cells": [
    {
      "cell_type": "markdown",
      "metadata": {
        "id": "view-in-github",
        "colab_type": "text"
      },
      "source": [
        "<a href=\"https://colab.research.google.com/github/Morinocox/Price_Prediction/blob/main/Price_Predicion_RNN.ipynb\" target=\"_parent\"><img src=\"https://colab.research.google.com/assets/colab-badge.svg\" alt=\"Open In Colab\"/></a>"
      ]
    },
    {
      "cell_type": "markdown",
      "source": [
        "# This is the project presented to pass the Data Science course at Digital House\n",
        "### I first import all libraries I'll need\n",
        "\n",
        "---\n",
        "\n"
      ],
      "metadata": {
        "id": "4CwNJL2SAwJh"
      }
    },
    {
      "cell_type": "code",
      "execution_count": 15,
      "metadata": {
        "id": "dHc3EAl5_tup"
      },
      "outputs": [],
      "source": [
        "import math\n",
        "import numpy as np\n",
        "import pandas as pd\n",
        "import matplotlib.pyplot as plt\n",
        "from sklearn import preprocessing\n",
        "from sklearn.preprocessing import MinMaxScaler\n",
        "from keras.layers import Dense, Dropout, LSTM, Input, Activation, concatenate\n",
        "from keras.models import Sequential\n",
        "from keras.models import Model\n",
        "from keras import optimizers\n",
        "import keras\n",
        "import tensorflow as tf\n",
        "from keras.models import Model\n",
        "from keras.layers import Dense, Dropout, LSTM, Input, Activation, concatenate\n",
        "from keras import optimizers\n",
        "import numpy as np\n",
        "# libraries for the files in google drive\n",
        "from pydrive.auth import GoogleAuth\n",
        "from google.colab import drive\n",
        "from pydrive.drive import GoogleDrive\n",
        "from google.colab import auth\n",
        "from oauth2client.client import GoogleCredentials"
      ]
    },
    {
      "cell_type": "code",
      "source": [
        "auth.authenticate_user()\n",
        "gauth = GoogleAuth()\n",
        "gauth.credentials = GoogleCredentials.get_application_default()\n",
        "drive = GoogleDrive(gauth)\n",
        "\n",
        "file_id = '1RsUW_-fytyC8NMWDAEaizNOaZSW1zdy-' #<-- This is the file id, which i find in almost in the midle of the sharable link. \n",
        "\n",
        "download = drive.CreateFile({'id': file_id})\n",
        "\n",
        "# Downloading the file\n",
        "download.GetContentFile('AMZN_dataset.csv')\n",
        "df  = pd.read_csv(\"AMZN_dataset.csv\")\n",
        "df.head()"
      ],
      "metadata": {
        "colab": {
          "base_uri": "https://localhost:8080/",
          "height": 571
        },
        "id": "KTMvRQbcCNC2",
        "outputId": "9001f207-6517-493d-ce4f-da9b2a3b8d6c"
      },
      "execution_count": 16,
      "outputs": [
        {
          "output_type": "stream",
          "name": "stderr",
          "text": [
            "WARNING:googleapiclient.discovery_cache:file_cache is unavailable when using oauth2client >= 4.0.0 or google-auth\n",
            "Traceback (most recent call last):\n",
            "  File \"/usr/local/lib/python3.7/dist-packages/googleapiclient/discovery_cache/file_cache.py\", line 33, in <module>\n",
            "    from oauth2client.contrib.locked_file import LockedFile\n",
            "ModuleNotFoundError: No module named 'oauth2client.contrib.locked_file'\n",
            "\n",
            "During handling of the above exception, another exception occurred:\n",
            "\n",
            "Traceback (most recent call last):\n",
            "  File \"/usr/local/lib/python3.7/dist-packages/googleapiclient/discovery_cache/file_cache.py\", line 37, in <module>\n",
            "    from oauth2client.locked_file import LockedFile\n",
            "ModuleNotFoundError: No module named 'oauth2client.locked_file'\n",
            "\n",
            "During handling of the above exception, another exception occurred:\n",
            "\n",
            "Traceback (most recent call last):\n",
            "  File \"/usr/local/lib/python3.7/dist-packages/googleapiclient/discovery_cache/__init__.py\", line 44, in autodetect\n",
            "    from . import file_cache\n",
            "  File \"/usr/local/lib/python3.7/dist-packages/googleapiclient/discovery_cache/file_cache.py\", line 41, in <module>\n",
            "    \"file_cache is unavailable when using oauth2client >= 4.0.0 or google-auth\"\n",
            "ImportError: file_cache is unavailable when using oauth2client >= 4.0.0 or google-auth\n"
          ]
        },
        {
          "output_type": "execute_result",
          "data": {
            "text/plain": [
              "                 Date    Open    High     Low   Close   Volume\n",
              "0  5/18/2012 16:00:00  219.45  219.63  212.81  213.85  5233522\n",
              "1  5/21/2012 16:00:00  214.03  219.98  212.82  218.11  3580096\n",
              "2  5/22/2012 16:00:00  218.00  218.87  213.96  215.33  3733844\n",
              "3  5/23/2012 16:00:00  214.18  217.55  211.18  217.28  4243774\n",
              "4  5/24/2012 16:00:00  216.76  217.66  212.70  215.24  3141496"
            ],
            "text/html": [
              "\n",
              "  <div id=\"df-96624e7c-7b86-4cc0-8279-f53f2f764bb4\">\n",
              "    <div class=\"colab-df-container\">\n",
              "      <div>\n",
              "<style scoped>\n",
              "    .dataframe tbody tr th:only-of-type {\n",
              "        vertical-align: middle;\n",
              "    }\n",
              "\n",
              "    .dataframe tbody tr th {\n",
              "        vertical-align: top;\n",
              "    }\n",
              "\n",
              "    .dataframe thead th {\n",
              "        text-align: right;\n",
              "    }\n",
              "</style>\n",
              "<table border=\"1\" class=\"dataframe\">\n",
              "  <thead>\n",
              "    <tr style=\"text-align: right;\">\n",
              "      <th></th>\n",
              "      <th>Date</th>\n",
              "      <th>Open</th>\n",
              "      <th>High</th>\n",
              "      <th>Low</th>\n",
              "      <th>Close</th>\n",
              "      <th>Volume</th>\n",
              "    </tr>\n",
              "  </thead>\n",
              "  <tbody>\n",
              "    <tr>\n",
              "      <th>0</th>\n",
              "      <td>5/18/2012 16:00:00</td>\n",
              "      <td>219.45</td>\n",
              "      <td>219.63</td>\n",
              "      <td>212.81</td>\n",
              "      <td>213.85</td>\n",
              "      <td>5233522</td>\n",
              "    </tr>\n",
              "    <tr>\n",
              "      <th>1</th>\n",
              "      <td>5/21/2012 16:00:00</td>\n",
              "      <td>214.03</td>\n",
              "      <td>219.98</td>\n",
              "      <td>212.82</td>\n",
              "      <td>218.11</td>\n",
              "      <td>3580096</td>\n",
              "    </tr>\n",
              "    <tr>\n",
              "      <th>2</th>\n",
              "      <td>5/22/2012 16:00:00</td>\n",
              "      <td>218.00</td>\n",
              "      <td>218.87</td>\n",
              "      <td>213.96</td>\n",
              "      <td>215.33</td>\n",
              "      <td>3733844</td>\n",
              "    </tr>\n",
              "    <tr>\n",
              "      <th>3</th>\n",
              "      <td>5/23/2012 16:00:00</td>\n",
              "      <td>214.18</td>\n",
              "      <td>217.55</td>\n",
              "      <td>211.18</td>\n",
              "      <td>217.28</td>\n",
              "      <td>4243774</td>\n",
              "    </tr>\n",
              "    <tr>\n",
              "      <th>4</th>\n",
              "      <td>5/24/2012 16:00:00</td>\n",
              "      <td>216.76</td>\n",
              "      <td>217.66</td>\n",
              "      <td>212.70</td>\n",
              "      <td>215.24</td>\n",
              "      <td>3141496</td>\n",
              "    </tr>\n",
              "  </tbody>\n",
              "</table>\n",
              "</div>\n",
              "      <button class=\"colab-df-convert\" onclick=\"convertToInteractive('df-96624e7c-7b86-4cc0-8279-f53f2f764bb4')\"\n",
              "              title=\"Convert this dataframe to an interactive table.\"\n",
              "              style=\"display:none;\">\n",
              "        \n",
              "  <svg xmlns=\"http://www.w3.org/2000/svg\" height=\"24px\"viewBox=\"0 0 24 24\"\n",
              "       width=\"24px\">\n",
              "    <path d=\"M0 0h24v24H0V0z\" fill=\"none\"/>\n",
              "    <path d=\"M18.56 5.44l.94 2.06.94-2.06 2.06-.94-2.06-.94-.94-2.06-.94 2.06-2.06.94zm-11 1L8.5 8.5l.94-2.06 2.06-.94-2.06-.94L8.5 2.5l-.94 2.06-2.06.94zm10 10l.94 2.06.94-2.06 2.06-.94-2.06-.94-.94-2.06-.94 2.06-2.06.94z\"/><path d=\"M17.41 7.96l-1.37-1.37c-.4-.4-.92-.59-1.43-.59-.52 0-1.04.2-1.43.59L10.3 9.45l-7.72 7.72c-.78.78-.78 2.05 0 2.83L4 21.41c.39.39.9.59 1.41.59.51 0 1.02-.2 1.41-.59l7.78-7.78 2.81-2.81c.8-.78.8-2.07 0-2.86zM5.41 20L4 18.59l7.72-7.72 1.47 1.35L5.41 20z\"/>\n",
              "  </svg>\n",
              "      </button>\n",
              "      \n",
              "  <style>\n",
              "    .colab-df-container {\n",
              "      display:flex;\n",
              "      flex-wrap:wrap;\n",
              "      gap: 12px;\n",
              "    }\n",
              "\n",
              "    .colab-df-convert {\n",
              "      background-color: #E8F0FE;\n",
              "      border: none;\n",
              "      border-radius: 50%;\n",
              "      cursor: pointer;\n",
              "      display: none;\n",
              "      fill: #1967D2;\n",
              "      height: 32px;\n",
              "      padding: 0 0 0 0;\n",
              "      width: 32px;\n",
              "    }\n",
              "\n",
              "    .colab-df-convert:hover {\n",
              "      background-color: #E2EBFA;\n",
              "      box-shadow: 0px 1px 2px rgba(60, 64, 67, 0.3), 0px 1px 3px 1px rgba(60, 64, 67, 0.15);\n",
              "      fill: #174EA6;\n",
              "    }\n",
              "\n",
              "    [theme=dark] .colab-df-convert {\n",
              "      background-color: #3B4455;\n",
              "      fill: #D2E3FC;\n",
              "    }\n",
              "\n",
              "    [theme=dark] .colab-df-convert:hover {\n",
              "      background-color: #434B5C;\n",
              "      box-shadow: 0px 1px 3px 1px rgba(0, 0, 0, 0.15);\n",
              "      filter: drop-shadow(0px 1px 2px rgba(0, 0, 0, 0.3));\n",
              "      fill: #FFFFFF;\n",
              "    }\n",
              "  </style>\n",
              "\n",
              "      <script>\n",
              "        const buttonEl =\n",
              "          document.querySelector('#df-96624e7c-7b86-4cc0-8279-f53f2f764bb4 button.colab-df-convert');\n",
              "        buttonEl.style.display =\n",
              "          google.colab.kernel.accessAllowed ? 'block' : 'none';\n",
              "\n",
              "        async function convertToInteractive(key) {\n",
              "          const element = document.querySelector('#df-96624e7c-7b86-4cc0-8279-f53f2f764bb4');\n",
              "          const dataTable =\n",
              "            await google.colab.kernel.invokeFunction('convertToInteractive',\n",
              "                                                     [key], {});\n",
              "          if (!dataTable) return;\n",
              "\n",
              "          const docLinkHtml = 'Like what you see? Visit the ' +\n",
              "            '<a target=\"_blank\" href=https://colab.research.google.com/notebooks/data_table.ipynb>data table notebook</a>'\n",
              "            + ' to learn more about interactive tables.';\n",
              "          element.innerHTML = '';\n",
              "          dataTable['output_type'] = 'display_data';\n",
              "          await google.colab.output.renderOutput(dataTable, element);\n",
              "          const docLink = document.createElement('div');\n",
              "          docLink.innerHTML = docLinkHtml;\n",
              "          element.appendChild(docLink);\n",
              "        }\n",
              "      </script>\n",
              "    </div>\n",
              "  </div>\n",
              "  "
            ]
          },
          "metadata": {},
          "execution_count": 16
        }
      ]
    },
    {
      "cell_type": "code",
      "source": [
        "data=df\n",
        "data"
      ],
      "metadata": {
        "colab": {
          "base_uri": "https://localhost:8080/",
          "height": 424
        },
        "id": "igFOw742_5Xx",
        "outputId": "ea886168-cfdb-47aa-c5c8-83dced8460f7"
      },
      "execution_count": 17,
      "outputs": [
        {
          "output_type": "execute_result",
          "data": {
            "text/plain": [
              "                    Date     Open     High      Low    Close   Volume\n",
              "0     5/18/2012 16:00:00   219.45   219.63   212.81   213.85  5233522\n",
              "1     5/21/2012 16:00:00   214.03   219.98   212.82   218.11  3580096\n",
              "2     5/22/2012 16:00:00   218.00   218.87   213.96   215.33  3733844\n",
              "3     5/23/2012 16:00:00   214.18   217.55   211.18   217.28  4243774\n",
              "4     5/24/2012 16:00:00   216.76   217.66   212.70   215.24  3141496\n",
              "...                  ...      ...      ...      ...      ...      ...\n",
              "2289  6/24/2021 16:00:00  3507.64  3524.86  3430.85  3449.08  3831999\n",
              "2290  6/25/2021 16:00:00  3464.00  3464.82  3394.18  3401.46  3940997\n",
              "2291  6/28/2021 16:00:00  3416.00  3448.00  3413.51  3443.89  2242793\n",
              "2292  6/29/2021 16:00:00  3438.82  3456.03  3423.03  3448.14  2098439\n",
              "2293  6/30/2021 16:00:00  3441.06  3471.60  3435.00  3440.16  2403992\n",
              "\n",
              "[2294 rows x 6 columns]"
            ],
            "text/html": [
              "\n",
              "  <div id=\"df-ecbcc98e-d8e1-44e6-acbb-326df7e0acd8\">\n",
              "    <div class=\"colab-df-container\">\n",
              "      <div>\n",
              "<style scoped>\n",
              "    .dataframe tbody tr th:only-of-type {\n",
              "        vertical-align: middle;\n",
              "    }\n",
              "\n",
              "    .dataframe tbody tr th {\n",
              "        vertical-align: top;\n",
              "    }\n",
              "\n",
              "    .dataframe thead th {\n",
              "        text-align: right;\n",
              "    }\n",
              "</style>\n",
              "<table border=\"1\" class=\"dataframe\">\n",
              "  <thead>\n",
              "    <tr style=\"text-align: right;\">\n",
              "      <th></th>\n",
              "      <th>Date</th>\n",
              "      <th>Open</th>\n",
              "      <th>High</th>\n",
              "      <th>Low</th>\n",
              "      <th>Close</th>\n",
              "      <th>Volume</th>\n",
              "    </tr>\n",
              "  </thead>\n",
              "  <tbody>\n",
              "    <tr>\n",
              "      <th>0</th>\n",
              "      <td>5/18/2012 16:00:00</td>\n",
              "      <td>219.45</td>\n",
              "      <td>219.63</td>\n",
              "      <td>212.81</td>\n",
              "      <td>213.85</td>\n",
              "      <td>5233522</td>\n",
              "    </tr>\n",
              "    <tr>\n",
              "      <th>1</th>\n",
              "      <td>5/21/2012 16:00:00</td>\n",
              "      <td>214.03</td>\n",
              "      <td>219.98</td>\n",
              "      <td>212.82</td>\n",
              "      <td>218.11</td>\n",
              "      <td>3580096</td>\n",
              "    </tr>\n",
              "    <tr>\n",
              "      <th>2</th>\n",
              "      <td>5/22/2012 16:00:00</td>\n",
              "      <td>218.00</td>\n",
              "      <td>218.87</td>\n",
              "      <td>213.96</td>\n",
              "      <td>215.33</td>\n",
              "      <td>3733844</td>\n",
              "    </tr>\n",
              "    <tr>\n",
              "      <th>3</th>\n",
              "      <td>5/23/2012 16:00:00</td>\n",
              "      <td>214.18</td>\n",
              "      <td>217.55</td>\n",
              "      <td>211.18</td>\n",
              "      <td>217.28</td>\n",
              "      <td>4243774</td>\n",
              "    </tr>\n",
              "    <tr>\n",
              "      <th>4</th>\n",
              "      <td>5/24/2012 16:00:00</td>\n",
              "      <td>216.76</td>\n",
              "      <td>217.66</td>\n",
              "      <td>212.70</td>\n",
              "      <td>215.24</td>\n",
              "      <td>3141496</td>\n",
              "    </tr>\n",
              "    <tr>\n",
              "      <th>...</th>\n",
              "      <td>...</td>\n",
              "      <td>...</td>\n",
              "      <td>...</td>\n",
              "      <td>...</td>\n",
              "      <td>...</td>\n",
              "      <td>...</td>\n",
              "    </tr>\n",
              "    <tr>\n",
              "      <th>2289</th>\n",
              "      <td>6/24/2021 16:00:00</td>\n",
              "      <td>3507.64</td>\n",
              "      <td>3524.86</td>\n",
              "      <td>3430.85</td>\n",
              "      <td>3449.08</td>\n",
              "      <td>3831999</td>\n",
              "    </tr>\n",
              "    <tr>\n",
              "      <th>2290</th>\n",
              "      <td>6/25/2021 16:00:00</td>\n",
              "      <td>3464.00</td>\n",
              "      <td>3464.82</td>\n",
              "      <td>3394.18</td>\n",
              "      <td>3401.46</td>\n",
              "      <td>3940997</td>\n",
              "    </tr>\n",
              "    <tr>\n",
              "      <th>2291</th>\n",
              "      <td>6/28/2021 16:00:00</td>\n",
              "      <td>3416.00</td>\n",
              "      <td>3448.00</td>\n",
              "      <td>3413.51</td>\n",
              "      <td>3443.89</td>\n",
              "      <td>2242793</td>\n",
              "    </tr>\n",
              "    <tr>\n",
              "      <th>2292</th>\n",
              "      <td>6/29/2021 16:00:00</td>\n",
              "      <td>3438.82</td>\n",
              "      <td>3456.03</td>\n",
              "      <td>3423.03</td>\n",
              "      <td>3448.14</td>\n",
              "      <td>2098439</td>\n",
              "    </tr>\n",
              "    <tr>\n",
              "      <th>2293</th>\n",
              "      <td>6/30/2021 16:00:00</td>\n",
              "      <td>3441.06</td>\n",
              "      <td>3471.60</td>\n",
              "      <td>3435.00</td>\n",
              "      <td>3440.16</td>\n",
              "      <td>2403992</td>\n",
              "    </tr>\n",
              "  </tbody>\n",
              "</table>\n",
              "<p>2294 rows × 6 columns</p>\n",
              "</div>\n",
              "      <button class=\"colab-df-convert\" onclick=\"convertToInteractive('df-ecbcc98e-d8e1-44e6-acbb-326df7e0acd8')\"\n",
              "              title=\"Convert this dataframe to an interactive table.\"\n",
              "              style=\"display:none;\">\n",
              "        \n",
              "  <svg xmlns=\"http://www.w3.org/2000/svg\" height=\"24px\"viewBox=\"0 0 24 24\"\n",
              "       width=\"24px\">\n",
              "    <path d=\"M0 0h24v24H0V0z\" fill=\"none\"/>\n",
              "    <path d=\"M18.56 5.44l.94 2.06.94-2.06 2.06-.94-2.06-.94-.94-2.06-.94 2.06-2.06.94zm-11 1L8.5 8.5l.94-2.06 2.06-.94-2.06-.94L8.5 2.5l-.94 2.06-2.06.94zm10 10l.94 2.06.94-2.06 2.06-.94-2.06-.94-.94-2.06-.94 2.06-2.06.94z\"/><path d=\"M17.41 7.96l-1.37-1.37c-.4-.4-.92-.59-1.43-.59-.52 0-1.04.2-1.43.59L10.3 9.45l-7.72 7.72c-.78.78-.78 2.05 0 2.83L4 21.41c.39.39.9.59 1.41.59.51 0 1.02-.2 1.41-.59l7.78-7.78 2.81-2.81c.8-.78.8-2.07 0-2.86zM5.41 20L4 18.59l7.72-7.72 1.47 1.35L5.41 20z\"/>\n",
              "  </svg>\n",
              "      </button>\n",
              "      \n",
              "  <style>\n",
              "    .colab-df-container {\n",
              "      display:flex;\n",
              "      flex-wrap:wrap;\n",
              "      gap: 12px;\n",
              "    }\n",
              "\n",
              "    .colab-df-convert {\n",
              "      background-color: #E8F0FE;\n",
              "      border: none;\n",
              "      border-radius: 50%;\n",
              "      cursor: pointer;\n",
              "      display: none;\n",
              "      fill: #1967D2;\n",
              "      height: 32px;\n",
              "      padding: 0 0 0 0;\n",
              "      width: 32px;\n",
              "    }\n",
              "\n",
              "    .colab-df-convert:hover {\n",
              "      background-color: #E2EBFA;\n",
              "      box-shadow: 0px 1px 2px rgba(60, 64, 67, 0.3), 0px 1px 3px 1px rgba(60, 64, 67, 0.15);\n",
              "      fill: #174EA6;\n",
              "    }\n",
              "\n",
              "    [theme=dark] .colab-df-convert {\n",
              "      background-color: #3B4455;\n",
              "      fill: #D2E3FC;\n",
              "    }\n",
              "\n",
              "    [theme=dark] .colab-df-convert:hover {\n",
              "      background-color: #434B5C;\n",
              "      box-shadow: 0px 1px 3px 1px rgba(0, 0, 0, 0.15);\n",
              "      filter: drop-shadow(0px 1px 2px rgba(0, 0, 0, 0.3));\n",
              "      fill: #FFFFFF;\n",
              "    }\n",
              "  </style>\n",
              "\n",
              "      <script>\n",
              "        const buttonEl =\n",
              "          document.querySelector('#df-ecbcc98e-d8e1-44e6-acbb-326df7e0acd8 button.colab-df-convert');\n",
              "        buttonEl.style.display =\n",
              "          google.colab.kernel.accessAllowed ? 'block' : 'none';\n",
              "\n",
              "        async function convertToInteractive(key) {\n",
              "          const element = document.querySelector('#df-ecbcc98e-d8e1-44e6-acbb-326df7e0acd8');\n",
              "          const dataTable =\n",
              "            await google.colab.kernel.invokeFunction('convertToInteractive',\n",
              "                                                     [key], {});\n",
              "          if (!dataTable) return;\n",
              "\n",
              "          const docLinkHtml = 'Like what you see? Visit the ' +\n",
              "            '<a target=\"_blank\" href=https://colab.research.google.com/notebooks/data_table.ipynb>data table notebook</a>'\n",
              "            + ' to learn more about interactive tables.';\n",
              "          element.innerHTML = '';\n",
              "          dataTable['output_type'] = 'display_data';\n",
              "          await google.colab.output.renderOutput(dataTable, element);\n",
              "          const docLink = document.createElement('div');\n",
              "          docLink.innerHTML = docLinkHtml;\n",
              "          element.appendChild(docLink);\n",
              "        }\n",
              "      </script>\n",
              "    </div>\n",
              "  </div>\n",
              "  "
            ]
          },
          "metadata": {},
          "execution_count": 17
        }
      ]
    },
    {
      "cell_type": "code",
      "source": [
        "def csv_to_dataset(csv_path):\n",
        "  datos = pd.read_csv(csv_path)\n",
        "  \n",
        "  # borra el primer día\n",
        "  datos  = datos.drop(0, axis=0)\n",
        "  print('Datos: ', datos.head(), '\\n')\n",
        "  \n",
        "  #Ordena de más viejo a más reciente\n",
        "  datos = datos.sort_values('Date')\n",
        "  print('Datos por Fecha: ', datos.head(),'\\n')\n",
        "  \n",
        "  #Borra la columna Fecha\n",
        "  datos = datos.drop('Date', axis=1)\n",
        "\n",
        "  \n",
        "  normalizador = preprocessing.MinMaxScaler()\n",
        "  datos_norm = normalizador.fit_transform(datos)\n",
        "\n",
        "  print(\"Datos Normalizados\", datos_norm[:10],'\\n')\n",
        "\n",
        "  # X\n",
        "  ohlcv_histories_normalised = np.array([datos_norm[i  : i + historic_points].copy() for i in range(len(datos_norm) - historic_points)])\n",
        "\n",
        "  # y\n",
        "  next_day_open_values_normalised = np.array([datos_norm[:,0][i + historic_points].copy() for i in range(len(datos_norm) - historic_points)])\n",
        "\n",
        "  next_day_open_values = np.array([datos.iloc[:,0][i + historic_points].copy() for i in range(len(datos) - historic_points)])\n",
        "  next_day_open_values = np.expand_dims(next_day_open_values_normalised, -1)\n",
        "  \n",
        "  y_scaler = preprocessing.MinMaxScaler()\n",
        "  y_scaler.fit(next_day_open_values)\n",
        "\n",
        "  # Indicador técnicos\n",
        "  technical_indicators = []\n",
        "\n",
        "  for his in ohlcv_histories_normalised:\n",
        "    #Promedio del precio de cierre Slow Moving Average\n",
        "    sma = np.mean(his[:,3])\n",
        "    technical_indicators.append(np.array([sma]))\n",
        "  \n",
        "  technical_indicators = np.array(technical_indicators)\n",
        "  tech_ind_scaler = preprocessing.MinMaxScaler()\n",
        "  technical_indicators_normalised = tech_ind_scaler.fit_transform(technical_indicators)\n",
        "  \n",
        "  \n",
        "  assert ohlcv_histories_normalised.shape[0] == next_day_open_values_normalised.shape[0] == technical_indicators_normalised.shape[0]\n",
        "\n",
        "  return ohlcv_histories_normalised, technical_indicators_normalised, next_day_open_values_normalised, next_day_open_values, y_scaler"
      ],
      "metadata": {
        "id": "mtotXLH5ABvy"
      },
      "execution_count": 18,
      "outputs": []
    },
    {
      "cell_type": "code",
      "source": [
        "ohlcv_histories, technical_indicators, next_day_open_values, unscaled_y, y_scaler = csv_to_dataset(path)"
      ],
      "metadata": {
        "colab": {
          "base_uri": "https://localhost:8080/"
        },
        "id": "AdsEoQHJAL0l",
        "outputId": "cf257fd7-7481-4d38-8b6b-655fc7b44a87"
      },
      "execution_count": 19,
      "outputs": [
        {
          "output_type": "stream",
          "name": "stdout",
          "text": [
            "Datos:           Date        Open        High         Low       Close   Adj Close  \\\n",
            "1  2016-09-13  768.770020  769.890015  759.049988  761.010010  761.010010   \n",
            "2  2016-09-14  762.200012  767.500000  758.849976  761.090027  761.090027   \n",
            "3  2016-09-15  762.000000  770.869995  757.580017  769.690002  769.690002   \n",
            "4  2016-09-16  773.280029  780.460022  771.659973  778.520020  778.520020   \n",
            "5  2016-09-19  779.969971  781.940002  771.000000  775.099976  775.099976   \n",
            "\n",
            "    Volume  \n",
            "1  3117200  \n",
            "2  2523000  \n",
            "3  3034000  \n",
            "4  5499200  \n",
            "5  2297200   \n",
            "\n",
            "Datos por Fecha:           Date        Open        High         Low       Close   Adj Close  \\\n",
            "1  2016-09-13  768.770020  769.890015  759.049988  761.010010  761.010010   \n",
            "2  2016-09-14  762.200012  767.500000  758.849976  761.090027  761.090027   \n",
            "3  2016-09-15  762.000000  770.869995  757.580017  769.690002  769.690002   \n",
            "4  2016-09-16  773.280029  780.460022  771.659973  778.520020  778.520020   \n",
            "5  2016-09-19  779.969971  781.940002  771.000000  775.099976  775.099976   \n",
            "\n",
            "    Volume  \n",
            "1  3117200  \n",
            "2  2523000  \n",
            "3  3034000  \n",
            "4  5499200  \n",
            "5  2297200   \n",
            "\n",
            "Datos Normalizados [[0.01286331 0.0087893  0.01638938 0.01392273 0.01392273 0.14256202]\n",
            " [0.01068348 0.00800047 0.01632242 0.0139493  0.0139493  0.10467555]\n",
            " [0.01061712 0.00911275 0.01589721 0.01680421 0.01680421 0.13725715]\n",
            " [0.01435966 0.01227796 0.02061144 0.01973549 0.01973549 0.29443945]\n",
            " [0.01657929 0.01276643 0.02039047 0.01860015 0.01860015 0.09027844]\n",
            " [0.01526211 0.0125783  0.02206457 0.02029982 0.02029982 0.06732467]\n",
            " [0.01766755 0.01565439 0.02307238 0.02346016 0.02346016 0.1171471 ]\n",
            " [0.02132383 0.0206712  0.02818171 0.02842641 0.02842641 0.20388046]\n",
            " [0.02426344 0.02128509 0.03081003 0.02877497 0.02877497 0.09386816]\n",
            " [0.02382216 0.02068439 0.02914599 0.02658729 0.02658729 0.1128624 ]] \n",
            "\n"
          ]
        }
      ]
    },
    {
      "cell_type": "code",
      "source": [
        "test_split = 0.70\n",
        "n = int(ohlcv_histories.shape[0] * test_split)\n",
        "\n",
        "ohlcv_train = ohlcv_histories[:n]\n",
        "tech_ind_train = technical_indicators[:n]\n",
        "y_train = next_day_open_values[:n]\n",
        "\n",
        "ohlcv_test = ohlcv_histories[n:]\n",
        "tech_ind_test = technical_indicators[n:]\n",
        "y_test = next_day_open_values[n:]\n",
        "\n",
        "unscaled_y_test = unscaled_y[n:]"
      ],
      "metadata": {
        "id": "8VCl7R1FAQzM"
      },
      "execution_count": 20,
      "outputs": []
    },
    {
      "cell_type": "code",
      "source": [
        "n"
      ],
      "metadata": {
        "colab": {
          "base_uri": "https://localhost:8080/"
        },
        "id": "gIY4gHLUAQ6f",
        "outputId": "01f52ce2-63c8-4771-9902-4b75f82872bb"
      },
      "execution_count": 21,
      "outputs": [
        {
          "output_type": "execute_result",
          "data": {
            "text/plain": [
              "879"
            ]
          },
          "metadata": {},
          "execution_count": 21
        }
      ]
    },
    {
      "cell_type": "code",
      "source": [
        "# definimos los dos sets de inputs\n",
        "lstm_input = Input(shape=(historic_points, 6), name='lstm_input')\n",
        "dense_input = Input(shape=(technical_indicators.shape[1],), name='tech_input')\n",
        " \n",
        "# la primera capa utiliza el primer input\n",
        "x = LSTM(50, name='lstm_0')(lstm_input)\n",
        "x = Dropout(0.2, name='lstm_dropout_0')(x)\n",
        "lstm_branch = Model(inputs=lstm_input, outputs=x)\n",
        " \n",
        "# la segunda capa utiliza el segundo input\n",
        "y = Dense(20, name='tech_dense_0')(dense_input)\n",
        "y = Activation(\"relu\", name='tech_relu_0')(y)\n",
        "y = Dropout(0.2, name='tech_dropout_0')(y)\n",
        "technical_indicators_branch = Model(inputs=dense_input, outputs=y)\n",
        " \n",
        "# combine the output of the two branches\n",
        "combined = concatenate([lstm_branch.output, technical_indicators_branch.output], name='concatenate')\n",
        " \n",
        "z = Dense(64, activation=\"sigmoid\", name='dense_pooling')(combined)\n",
        "z = Dense(1, activation=\"linear\", name='dense_out')(z)\n",
        " \n",
        "# El modelo usara las dos capaz creadas\n",
        "model = Model(inputs=[lstm_branch.input, technical_indicators_branch.input], outputs=z)\n",
        "\n",
        "model.compile(optimizer='adam', loss='mse', metrics=['accuracy', 'mae', 'mse', 'mape'])"
      ],
      "metadata": {
        "id": "eBg9MHPtAQ-b"
      },
      "execution_count": 22,
      "outputs": []
    },
    {
      "cell_type": "code",
      "source": [
        "ohlcv_train.shape"
      ],
      "metadata": {
        "colab": {
          "base_uri": "https://localhost:8080/"
        },
        "id": "nO5lXJskARK1",
        "outputId": "114a74a7-aa42-47d9-914c-c8341e629592"
      },
      "execution_count": 23,
      "outputs": [
        {
          "output_type": "execute_result",
          "data": {
            "text/plain": [
              "(879, 1, 6)"
            ]
          },
          "metadata": {},
          "execution_count": 23
        }
      ]
    },
    {
      "cell_type": "code",
      "source": [
        "plt.plot(tech_ind_train)"
      ],
      "metadata": {
        "colab": {
          "base_uri": "https://localhost:8080/",
          "height": 284
        },
        "id": "w_J5VGHAAXl1",
        "outputId": "593f02ee-40ec-4911-b3fe-2a23054dd8ec"
      },
      "execution_count": 24,
      "outputs": [
        {
          "output_type": "execute_result",
          "data": {
            "text/plain": [
              "[<matplotlib.lines.Line2D at 0x7fdead27ffd0>]"
            ]
          },
          "metadata": {},
          "execution_count": 24
        },
        {
          "output_type": "display_data",
          "data": {
            "text/plain": [
              "<Figure size 432x288 with 1 Axes>"
            ],
            "image/png": "[encoded data removed]"
          },
          "metadata": {
            "needs_background": "light"
          }
        }
      ]
    },
    {
      "cell_type": "code",
      "source": [
        "y_train.shape"
      ],
      "metadata": {
        "colab": {
          "base_uri": "https://localhost:8080/"
        },
        "id": "u5Z5I5BBAXo7",
        "outputId": "4d6207e8-b414-490a-fa80-26696f05fb18"
      },
      "execution_count": 25,
      "outputs": [
        {
          "output_type": "execute_result",
          "data": {
            "text/plain": [
              "(879,)"
            ]
          },
          "metadata": {},
          "execution_count": 25
        }
      ]
    },
    {
      "cell_type": "code",
      "source": [
        "model.fit(x=[ohlcv_train, tech_ind_train], y=y_train, batch_size=32, verbose=0, epochs=50, shuffle=True, validation_split=0.1)"
      ],
      "metadata": {
        "colab": {
          "base_uri": "https://localhost:8080/"
        },
        "id": "1dhW9e5BAdjk",
        "outputId": "b4c9b580-0f01-41a5-d685-b92ce2863061"
      },
      "execution_count": 26,
      "outputs": [
        {
          "output_type": "execute_result",
          "data": {
            "text/plain": [
              "<keras.callbacks.History at 0x7fdead245b50>"
            ]
          },
          "metadata": {},
          "execution_count": 26
        }
      ]
    },
    {
      "cell_type": "code",
      "source": [
        "# Desnormalizamos las predicciones que están normalizadas\n",
        "y_test_predicted = model.predict([ohlcv_test, tech_ind_test])\n",
        "\n",
        "y_test_predicted = y_scaler.inverse_transform(y_test_predicted)\n",
        "\n",
        "real_mse = np.mean(np.square(unscaled_y_test - y_test_predicted))\n",
        "scaled_mse = real_mse / (np.max(unscaled_y_test) - np.min(unscaled_y_test)) * 100\n",
        "print(scaled_mse)"
      ],
      "metadata": {
        "colab": {
          "base_uri": "https://localhost:8080/"
        },
        "id": "TOWKnTwbAdmb",
        "outputId": "39dcfbaf-100d-419d-8ae0-825f14dd4b24"
      },
      "execution_count": 27,
      "outputs": [
        {
          "output_type": "stream",
          "name": "stdout",
          "text": [
            "0.2625054722821857\n"
          ]
        }
      ]
    },
    {
      "cell_type": "code",
      "source": [
        "plt.gcf().set_size_inches(15, 6, forward=True)\n",
        "\n",
        "\n",
        "yt=plt.plot(y_train, label='train')\n",
        "real = plt.plot(np.arange(len(y_train),len(y_train)+len( unscaled_y_test)), unscaled_y_test, label='real')\n",
        "pred = plt.plot(np.arange(len(y_train),len(y_train)+len( unscaled_y_test)),y_test_predicted, label='predicted')\n",
        "\n",
        "plt.legend(['Train','Real', 'Predicted'])\n",
        "plt.grid(True)\n",
        "plt.show()"
      ],
      "metadata": {
        "colab": {
          "base_uri": "https://localhost:8080/",
          "height": 374
        },
        "id": "FtE4MI2wAdpo",
        "outputId": "fa97ed48-3f4e-4152-d6d0-ce3628dea740"
      },
      "execution_count": 28,
      "outputs": [
        {
          "output_type": "display_data",
          "data": {
            "text/plain": [
              "<Figure size 1080x432 with 1 Axes>"
            ],
            "image/png": "[encoded data removed]"
          },
          "metadata": {
            "needs_background": "light"
          }
        }
      ]
    }
  ]
}